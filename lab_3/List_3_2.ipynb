{
 "cells": [
  {
   "cell_type": "code",
   "execution_count": 2,
   "metadata": {},
   "outputs": [],
   "source": [
    "from numpy import pi"
   ]
  },
  {
   "cell_type": "code",
   "execution_count": 3,
   "metadata": {},
   "outputs": [],
   "source": [
    "def count_Field(X):\n",
    "    \"\"\"\n",
    "    Function calculate the area of geometric figure.\n",
    "    :param X[0]: is a type of geometric figure (e.g. circle, rectangle, triangle, rhombus)\n",
    "    :param X[1]: :param X[2]:  for circle we get only 'X[1]' which stands for radius. For Rectangle 'X[1]' and 'X[2]' are the figure's\n",
    "    sides, for triangle they are accordingly the base and the height and for rhombus - diagonals\n",
    "    :return: the area of geometric figure\n",
    "    \"\"\"\n",
    "    list_of_figure = ['circle', 'rectangle', 'triangle', 'rhombus']\n",
    "    try:\n",
    "        if X[0] in list_of_figure:\n",
    "            if X[0] == 'circle':\n",
    "\n",
    "                if len(X) > 2:\n",
    "                    print('Too many arguments')\n",
    "\n",
    "                else:\n",
    "                    if X[1] >= 0:\n",
    "                        return (pi * X[1] ** 2)\n",
    "                    else:\n",
    "                        print('Please enter the correct radius of the circle (radius >= 0)')\n",
    "\n",
    "            elif len(X) > 3:\n",
    "                print('Too many arguments')\n",
    "                exit()\n",
    "\n",
    "            else:\n",
    "                if X[0] == 'rectangle':\n",
    "                    if X[1] >= 0 and X[2] >= 0:\n",
    "                        return (X[1] * X[2])\n",
    "                    else:\n",
    "                        print('Please enter the correct sides of the rectangle (side >= 0)')\n",
    "\n",
    "                elif X[0] == 'triangle':\n",
    "                    if X[1] >= 0 and X[2] >= 0:\n",
    "                        return (0.5 * X[1] * X[2])\n",
    "                    else:\n",
    "                        print('Please enter the correct sides of the triangle (side >= 0)')\n",
    "\n",
    "                elif X[0] == 'rhombus':\n",
    "                    if X[1] >= 0 and X[2] >= 0:\n",
    "                        return (0.5 * X[1] * X[2])\n",
    "                    else:\n",
    "                        print('Please enter the correct diagonals of the rhombus (side >= 0)')\n",
    "\n",
    "        else:\n",
    "            print('Please enter the correct type \"X[0]\" of geometric figure (e.g. circle, rectangle, triangle, rhombus): ')\n",
    "\n",
    "    except TypeError:\n",
    "        print('Wrong order of arguments')"
   ]
  },
  {
   "cell_type": "code",
   "execution_count": 4,
   "metadata": {},
   "outputs": [],
   "source": [
    "def bigger_Field(X):\n",
    "    \"\"\"\n",
    "    Function compare the area of geometric figures.\n",
    "    :param X: list of inputs\n",
    "    :return: which of two geometric figures has larger area\n",
    "    \"\"\"\n",
    "    Y = X[0]\n",
    "    Z = X[1]\n",
    "    try:\n",
    "        if len(X) != 2:\n",
    "            print('The function supports only two arguments')\n",
    "        else:\n",
    "            if ((1 < len(Y) < 4) and (1 < len(Z) < 4)):\n",
    "                A = count_Field(Y)\n",
    "                B = count_Field(Z)\n",
    "\n",
    "                if A > B:\n",
    "                    print('The first figure (', Y[0], ') has larger field')\n",
    "                    \n",
    "                elif B > A:\n",
    "                    print('The second figure (', Z[0], ') has larger field')\n",
    "                \n",
    "                elif A == B:\n",
    "                    print('Both of the figure (', Y[0], Z[0], ') have the same field')\n",
    "            else:\n",
    "                print('Bad values were given')\n",
    "    \n",
    "    except (IndexError or TypeError):\n",
    "        print('Bad values were given')"
   ]
  },
  {
   "cell_type": "code",
   "execution_count": 7,
   "metadata": {},
   "outputs": [
    {
     "name": "stdout",
     "output_type": "stream",
     "text": [
      "The first figure ( circle ) has larger field\n"
     ]
    }
   ],
   "source": [
    "bigger_Field([['CiRcLe'.lower(), 12], ['rHombus'.lower(), 40, 20]])"
   ]
  },
  {
   "cell_type": "code",
   "execution_count": 8,
   "metadata": {},
   "outputs": [
    {
     "name": "stdout",
     "output_type": "stream",
     "text": [
      "The second figure ( rhombus ) has larger field\n"
     ]
    }
   ],
   "source": [
    "bigger_Field([['CiRcLe'.lower(), 12], ['rHombus'.lower(), 400, 20]])"
   ]
  },
  {
   "cell_type": "code",
   "execution_count": 9,
   "metadata": {},
   "outputs": [
    {
     "name": "stdout",
     "output_type": "stream",
     "text": [
      "Both of the figure ( triangle rectangle ) have the same field\n"
     ]
    }
   ],
   "source": [
    "bigger_Field([['Triangle'.lower(), 50, 20], ['recTangle'.lower(), 25, 20]])"
   ]
  },
  {
   "cell_type": "code",
   "execution_count": 10,
   "metadata": {},
   "outputs": [
    {
     "name": "stdout",
     "output_type": "stream",
     "text": [
      "The function supports only two arguments\n"
     ]
    }
   ],
   "source": [
    "bigger_Field([['circle'.lower(), 40], ['rhombus'.lower(), 400, 20], ['rhombus'.lower(), 10, 20]])"
   ]
  },
  {
   "cell_type": "code",
   "execution_count": 11,
   "metadata": {},
   "outputs": [
    {
     "name": "stdout",
     "output_type": "stream",
     "text": [
      "Bad values were given\n"
     ]
    }
   ],
   "source": [
    "bigger_Field([[], []])"
   ]
  },
  {
   "cell_type": "code",
   "execution_count": 12,
   "metadata": {},
   "outputs": [
    {
     "name": "stdout",
     "output_type": "stream",
     "text": [
      "Bad values were given\n"
     ]
    }
   ],
   "source": [
    "bigger_Field([['circle'.lower()], ['rHombus'.lower(), 40, 20]])"
   ]
  },
  {
   "cell_type": "code",
   "execution_count": 13,
   "metadata": {},
   "outputs": [
    {
     "name": "stdout",
     "output_type": "stream",
     "text": [
      "Bad values were given\n"
     ]
    }
   ],
   "source": [
    "bigger_Field([['circle'.lower()], ['rHombus'.lower(), 40, 20, 10]])"
   ]
  },
  {
   "cell_type": "code",
   "execution_count": 39,
   "metadata": {},
   "outputs": [
    {
     "name": "stdout",
     "output_type": "stream",
     "text": [
      "Bad values were given\n"
     ]
    }
   ],
   "source": [
    "bigger_Field([['circle'.lower(), 40, 20], ['rHombus'.lower(), 40, 20, 10]])"
   ]
  },
  {
   "cell_type": "code",
   "execution_count": null,
   "metadata": {},
   "outputs": [],
   "source": []
  }
 ],
 "metadata": {
  "kernelspec": {
   "display_name": "Python 3",
   "language": "python",
   "name": "python3"
  },
  "language_info": {
   "codemirror_mode": {
    "name": "ipython",
    "version": 3
   },
   "file_extension": ".py",
   "mimetype": "text/x-python",
   "name": "python",
   "nbconvert_exporter": "python",
   "pygments_lexer": "ipython3",
   "version": "3.7.0"
  }
 },
 "nbformat": 4,
 "nbformat_minor": 2
}
